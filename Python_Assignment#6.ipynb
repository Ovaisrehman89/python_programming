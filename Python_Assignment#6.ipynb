{
 "cells": [
  {
   "cell_type": "markdown",
   "metadata": {},
   "source": [
    "## Q1: Define Object Oriented Programming Language?"
   ]
  },
  {
   "cell_type": "markdown",
   "metadata": {},
   "source": [
    "## Ans: Object Oriented Programming:\n",
    "\n",
    "## One of the most powerful and popular paradigms.\n",
    "\n",
    "## Includes facilities for modular programming, and (in some sense) procedural programming.\n",
    "\n",
    "## A program consists of a collection of cooperating objects rather than a list of instructions (actions).\n",
    "\n",
    "## An object combines data structure and its related operations together."
   ]
  },
  {
   "cell_type": "markdown",
   "metadata": {},
   "source": [
    "## Q2: List down the Benefits of OOP?"
   ]
  },
  {
   "cell_type": "markdown",
   "metadata": {},
   "source": [
    "## Ans: BENEFITS OF OOP\n",
    "\n",
    "## Reduced cognitive load (have less to think about and more natural paradigm)\n",
    "\n",
    "## Isolation of programmers (better team programming)\n",
    "\n",
    "## Less propagation of errors more adaptable/flexible programs\n",
    "\n",
    "## Faster development due to reuse of code"
   ]
  },
  {
   "cell_type": "markdown",
   "metadata": {},
   "source": [
    "## Q3: Differentiate between function and method?\n",
    "\n",
    "## Ans: Difference between function and method:\n",
    "\n",
    "## Function:\n",
    "\n",
    "## A program that provides some functionality can be long and contains many statements\n",
    "\n",
    "## Method: \n",
    "\n",
    "## A method groups a sequence of statements and shouldprovide a well-defined, easy-to-understand functionality\n",
    "\n",
    "## a method takes input, performs actions, and produces output"
   ]
  },
  {
   "cell_type": "markdown",
   "metadata": {},
   "source": [
    "## Define the following terms:\n",
    "## 1. Class\n",
    "## 2. Object\n",
    "## 3. Attribute\n",
    "## 4. Behavior"
   ]
  },
  {
   "cell_type": "markdown",
   "metadata": {},
   "source": [
    "## 1. Class:\n",
    "\n",
    "## In programming: a pattern, blueprint, or template for modeling real world objects which have similar attributes.\n",
    "\n",
    "## 2. Object:\n",
    "\n",
    "## Objects are the basic run-time entities of an object orientedsystem.\n",
    "\n",
    "## They may represent a person, a place or any item that the program must handle.\n",
    "\n",
    "## 3. Attribute:\n",
    "\n",
    "## A given set of data which describes the object.\n",
    "\n",
    "## e.g., colour, size, amount, name, phoneNumber, etc.\n",
    "\n",
    "## Behavior:\n",
    "\n",
    "## A given set of data which describes the object.\n",
    "\n",
    "## e.g., colour, size, amount, name, phoneNumber, etc.\n"
   ]
  },
  {
   "cell_type": "code",
   "execution_count": 67,
   "metadata": {},
   "outputs": [
    {
     "name": "stdout",
     "output_type": "stream",
     "text": [
      "Object: Civic 2019 Red Honda Ovais king001\n",
      "Updated Object: Civic 2019 Red Honda Ovais ur Rehman king001\n",
      "New Car\n",
      "Object: Margala 2000 Red Toyota Fawad ala-220\n",
      "Updated Object: Margala 2000 Red Toyota Ovais ur Rehman ala-220\n",
      "New Car\n",
      "Object: Vigo Red Toyota Ali AWD-590\n",
      "Updated Object: Vigo Red Toyota Ovais ur Rehman AWD-590\n",
      "New Car\n",
      "Object: Hilux Black Toyota Usama ADD-590\n",
      "Updated Object: Hilux Black Toyota Ovais ur Rehman ADD-590\n",
      "Same Car\n",
      "Object: Hilux 2020 Black Toyota Abba APD-590\n",
      "Updated Object: Hilux Black Toyota Ovais ur Rehman ADD-590\n",
      "Same Car\n",
      "Deleted Object 1: None None None None None\n",
      "Deleted Object 2: None None None None None\n",
      "Deleted Object 3: None None None None None\n",
      "Deleted Object 4: None None None None None\n",
      "Deleted Object 4: None None None None None\n"
     ]
    }
   ],
   "source": [
    "class Car():\n",
    "    #model = \"Civic 2019\"\n",
    "    #color = \"Red\"\n",
    "    #name = \"Honda\"\n",
    "    #owner = \"Ovais\"\n",
    "    #registration_number = \"king001\"\n",
    "    \n",
    "    def __init__(self, model,color,name,owner,registration_number):\n",
    "        self.model = model\n",
    "        self.color = color\n",
    "        self.name = name\n",
    "        self.owner = owner\n",
    "        self.registration_number = registration_number\n",
    "        \n",
    "    def update_owner(self,new_owner):\n",
    "        self.owner = new_owner\n",
    "        \n",
    "    def delete(self):\n",
    "        self.model = None\n",
    "        self.color = None\n",
    "        self.name = None\n",
    "        self.owner = None\n",
    "        self.registration_number = None\n",
    "    \n",
    "    def check(self,new_registration_number,new_model,new_name):\n",
    "        if self.registration_number == new_registration_number and self.model == new_model and self.name == new_name:\n",
    "            print(\"Same Car\")\n",
    "        else:\n",
    "            print(\"New Car\")\n",
    "        \n",
    "    \n",
    "\n",
    "first = Car(\"Civic 2019\",\"Red\",\"Honda\",\"Ovais\",\"king001\")\n",
    "print(\"Object:\", first.model,first.color,first.name,first.owner,first.registration_number)  \n",
    "second = first.update_owner(\"Ovais ur Rehman\")\n",
    "print(\"Updated Object:\", first.model,first.color,first.name,first.owner,first.registration_number)  \n",
    "third = first.check(new_registration_number=\"king001\",new_model= \"Civic 2020\",new_name=\"Honda\")\n",
    "\n",
    "first1 = Car(\"Margala 2000\",\"Red\",\"Toyota\",\"Fawad\",\"ala-220\")\n",
    "print(\"Object:\", first1.model,first1.color,first1.name,first1.owner,first1.registration_number)  \n",
    "second1 = first1.update_owner(\"Ovais ur Rehman\")\n",
    "print(\"Updated Object:\", first1.model,first1.color,first1.name,first1.owner,first1.registration_number)  \n",
    "third1 = first1.check(new_registration_number=\"king001\",new_model= \"Margala 2000\",new_name=\"Toyota\")\n",
    "\n",
    "first2 = Car(\"Vigo\",\"Red\",\"Toyota\",\"Ali\",\"AWD-590\")\n",
    "print(\"Object:\", first2.model,first2.color,first2.name,first2.owner,first2.registration_number)  \n",
    "second2 = first2.update_owner(\"Ovais ur Rehman\")\n",
    "print(\"Updated Object:\", first2.model,first2.color,first2.name,first2.owner,first2.registration_number)  \n",
    "third2 = first1.check(new_registration_number=\"king001\",new_model= \"Vigo\",new_name=\"Toyota\")\n",
    "\n",
    "first3 = Car(\"Hilux\",\"Black\",\"Toyota\",\"Usama\",\"ADD-590\")\n",
    "print(\"Object:\", first3.model,first3.color,first3.name,first3.owner,first3.registration_number)  \n",
    "second3 = first3.update_owner(\"Ovais ur Rehman\")\n",
    "print(\"Updated Object:\", first3.model,first3.color,first3.name,first3.owner,first3.registration_number)  \n",
    "third3 = first3.check(new_registration_number=\"ADD-590\",new_model= \"Hilux\",new_name=\"Toyota\")\n",
    "\n",
    "first4 = Car(\"Hilux 2020\",\"Black\",\"Toyota\",\"Abba\",\"APD-590\")\n",
    "print(\"Object:\", first4.model,first4.color,first4.name,first4.owner,first4.registration_number)  \n",
    "second4 = first4.update_owner(\"Ovais ur Rehman\")\n",
    "print(\"Updated Object:\", first3.model,first3.color,first3.name,first3.owner,first3.registration_number)  \n",
    "third4 = first4.check(new_registration_number=\"APD-590\",new_model= \"Hilux 2020\",new_name=\"Toyota\")\n",
    "\n",
    "\n",
    "\n",
    "\n",
    "#print(first.color)  \n",
    "\n",
    "        \n",
    "fourth = first.delete()\n",
    "fourth1 = first1.delete()\n",
    "fourth2 = first2.delete()\n",
    "fourth3 = first3.delete()\n",
    "fourth4 = first4.delete()\n",
    "\n",
    "\n",
    "print(\"Deleted Object 1:\", first.model,first.color,first.name,first.owner,first.registration_number)  \n",
    "print(\"Deleted Object 2:\", first1.model,first1.color,first1.name,first1.owner,first1.registration_number)\n",
    "print(\"Deleted Object 3:\", first2.model,first2.color,first2.name,first2.owner,first2.registration_number)\n",
    "print(\"Deleted Object 4:\", first3.model,first3.color,first3.name,first3.owner,first3.registration_number)\n",
    "print(\"Deleted Object 4:\", first4.model,first4.color,first4.name,first4.owner,first4.registration_number)\n"
   ]
  },
  {
   "cell_type": "code",
   "execution_count": null,
   "metadata": {},
   "outputs": [],
   "source": []
  }
 ],
 "metadata": {
  "kernelspec": {
   "display_name": "Python 3",
   "language": "python",
   "name": "python3"
  },
  "language_info": {
   "codemirror_mode": {
    "name": "ipython",
    "version": 3
   },
   "file_extension": ".py",
   "mimetype": "text/x-python",
   "name": "python",
   "nbconvert_exporter": "python",
   "pygments_lexer": "ipython3",
   "version": "3.7.4"
  }
 },
 "nbformat": 4,
 "nbformat_minor": 2
}
