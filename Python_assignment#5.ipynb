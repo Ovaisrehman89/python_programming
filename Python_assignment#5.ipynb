{
 "cells": [
  {
   "cell_type": "code",
   "execution_count": 10,
   "metadata": {},
   "outputs": [
    {
     "name": "stdout",
     "output_type": "stream",
     "text": [
      "Enter Number: 6\n",
      "the factorial of 6 is 720\n"
     ]
    }
   ],
   "source": [
    "import sys\n",
    "\n",
    "def nonzero(n):\n",
    "    if n > 0:\n",
    "        return True\n",
    "    else:\n",
    "        sys.exit(\"Non zero value\")\n",
    "        \n",
    "def factorial(n):\n",
    "    n1 = n\n",
    "    n2 = n\n",
    "    while n1>1:\n",
    "        n2 = n2*(n1-1)\n",
    "        n1 -=1\n",
    "    print(\"the factorial of {} is {}\".format(n,n2))\n",
    "\n",
    "n = int(input(\"Enter Number: \"))\n",
    "nonzero(n)\n",
    "factorial(n)"
   ]
  },
  {
   "cell_type": "code",
   "execution_count": 17,
   "metadata": {},
   "outputs": [
    {
     "name": "stdout",
     "output_type": "stream",
     "text": [
      "Enter String: HeLLo\n",
      "Upper case characters are 3 and Lower case characters are 2\n"
     ]
    }
   ],
   "source": [
    "def upperlower(string):\n",
    "    upper = 0\n",
    "    lower = 0\n",
    "    for i in string:\n",
    "        if i.isupper():\n",
    "            upper +=1\n",
    "        else:\n",
    "            lower +=1\n",
    "    print(\"Upper case characters are {} and Lower case characters are {}\".format(upper,lower))\n",
    "    \n",
    "\n",
    "string = input(\"Enter String: \")\n",
    "upperlower(string)"
   ]
  },
  {
   "cell_type": "code",
   "execution_count": 16,
   "metadata": {},
   "outputs": [
    {
     "name": "stdout",
     "output_type": "stream",
     "text": [
      "2 is even number\n",
      "4 is even number\n",
      "6 is even number\n",
      "8 is even number\n",
      "0 is even number\n"
     ]
    }
   ],
   "source": [
    "def even(a):\n",
    "    for i in a:\n",
    "        if i%2 == 0:\n",
    "            print(\"{} is even number\".format(i))\n",
    "    \n",
    "\n",
    "a = [2,3,4,5,6,7,8,9,0,1]\n",
    "even(a)"
   ]
  },
  {
   "cell_type": "code",
   "execution_count": 21,
   "metadata": {},
   "outputs": [
    {
     "name": "stdout",
     "output_type": "stream",
     "text": [
      "madam\n",
      "It is a palindrome\n"
     ]
    }
   ],
   "source": [
    "def palindrome(a):\n",
    "    if a == a[::-1]:\n",
    "        print(\"It is a palindrome\")\n",
    "    else:\n",
    "        print(\"It is not a palindrome\")\n",
    "        \n",
    "a = input()\n",
    "palindrome(a)\n",
    "        "
   ]
  },
  {
   "cell_type": "code",
   "execution_count": 15,
   "metadata": {},
   "outputs": [
    {
     "name": "stdout",
     "output_type": "stream",
     "text": [
      "8\n",
      "8 is not a prime number\n"
     ]
    }
   ],
   "source": [
    "def primenumber(num):\n",
    "    count = 0\n",
    "    if num == 2:\n",
    "        print(num,\"is a prime number\")\n",
    "    elif num == 1:\n",
    "        print(num,\"is not a prime number\")\n",
    "    elif num > 1:\n",
    "        for i in range(2,num+1):\n",
    "            if (num%i)==0:\n",
    "                count +=1\n",
    "    if count == 1:\n",
    "        print(num,\"is a prime number\")\n",
    "    else:\n",
    "        print(num,\"is not a prime number\")\n",
    "\n",
    "num = int(input())\n",
    "primenumber(num)"
   ]
  },
  {
   "cell_type": "code",
   "execution_count": 16,
   "metadata": {},
   "outputs": [
    {
     "name": "stdout",
     "output_type": "stream",
     "text": [
      "7\n",
      "7 is a prime number\n"
     ]
    }
   ],
   "source": [
    "#Extra\n",
    "\n",
    "def primenumber(num):\n",
    "    if num == 2:\n",
    "        print(num,\"is a prime number\")\n",
    "    elif num == 1:\n",
    "        print(num,\"is not a prime number\")\n",
    "    elif num > 1:\n",
    "        for i in range(2,num):\n",
    "            if (num%i)==0:\n",
    "                print(num,\"is not a prime number\")\n",
    "                break\n",
    "            else:\n",
    "                print(num,\"is a prime number\")\n",
    "                break\n",
    "                \n",
    "                \n",
    "        \n",
    "    \n",
    "num = int(input())\n",
    "primenumber(num)"
   ]
  },
  {
   "cell_type": "code",
   "execution_count": 63,
   "metadata": {},
   "outputs": [
    {
     "name": "stdout",
     "output_type": "stream",
     "text": [
      "banana\n",
      "cake\n",
      "pepsi\n",
      "tomato\n",
      "rice\n",
      "biryani masala\n",
      "potato\n",
      "meat\n"
     ]
    }
   ],
   "source": [
    "def shopping(*list):\n",
    "    for i in list:\n",
    "        print(i)\n",
    "\n",
    "shopping(\"banana\",\"cake\",\"pepsi\",\"tomato\",\"rice\",\"biryani masala\",\"potato\",\"meat\")"
   ]
  },
  {
   "cell_type": "code",
   "execution_count": 60,
   "metadata": {},
   "outputs": [
    {
     "name": "stdout",
     "output_type": "stream",
     "text": [
      "89\n"
     ]
    },
    {
     "data": {
      "text/plain": [
       "True"
      ]
     },
     "execution_count": 60,
     "metadata": {},
     "output_type": "execute_result"
    }
   ],
   "source": [
    "#Extra\n",
    "\n",
    "def chk(b):\n",
    "    try:\n",
    "        int(b)\n",
    "        return True\n",
    "    except ValueError:\n",
    "        return False\n",
    "\n",
    "b = input()\n",
    "chk(b)\n"
   ]
  },
  {
   "cell_type": "code",
   "execution_count": 11,
   "metadata": {},
   "outputs": [
    {
     "data": {
      "text/plain": [
       "'madam'"
      ]
     },
     "execution_count": 11,
     "metadata": {},
     "output_type": "execute_result"
    }
   ],
   "source": [
    "#Extra\n",
    "\n",
    "a = \"madam\"\n",
    "for i in a[1:4:-1]:\n",
    "    print(i)\n",
    "    \n",
    "a[::-1]    "
   ]
  },
  {
   "cell_type": "code",
   "execution_count": 21,
   "metadata": {},
   "outputs": [
    {
     "data": {
      "text/plain": [
       "False"
      ]
     },
     "execution_count": 21,
     "metadata": {},
     "output_type": "execute_result"
    }
   ],
   "source": [
    "#Extra\n",
    "\n",
    "\"hello\".isupper()"
   ]
  },
  {
   "cell_type": "code",
   "execution_count": null,
   "metadata": {
    "collapsed": true
   },
   "outputs": [],
   "source": []
  }
 ],
 "metadata": {
  "kernelspec": {
   "display_name": "Python 3",
   "language": "python",
   "name": "python3"
  },
  "language_info": {
   "codemirror_mode": {
    "name": "ipython",
    "version": 3
   },
   "file_extension": ".py",
   "mimetype": "text/x-python",
   "name": "python",
   "nbconvert_exporter": "python",
   "pygments_lexer": "ipython3",
   "version": "3.7.4"
  }
 },
 "nbformat": 4,
 "nbformat_minor": 2
}
